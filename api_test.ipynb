{
 "cells": [
  {
   "cell_type": "code",
   "execution_count": 18,
   "metadata": {},
   "outputs": [
    {
     "name": "stdout",
     "output_type": "stream",
     "text": [
      "Success: {\"output\":{\"quiz_questions\":{\"quiz\":[{\"correct_index\":2,\"options\":[\"To generate polls with high uncertainty\",\"To run elections with perfect polling\",\"To ask as few people as possible to determine election results\",\"To increase uncertainty about election outcomes\"],\"question\":\"What is a key strategy mentioned in the lectures on Bayesian Optimization?\"}]},\"return_type\":\"quiz_questions\"}}\n",
      "\n",
      "Data:quiz_questions\n"
     ]
    }
   ],
   "source": [
    "import requests\n",
    "\n",
    "url = \"https://caupona-backend.azurewebsites.net/chat\"\n",
    "data = {\n",
    "    \"input\": \"Generate me a quiz question about bayesion optimization\",  # Replace these with actual key-value pairs you want to send\n",
    "}\n",
    "\n",
    "response = requests.post(url, json=data)\n",
    "\n",
    "if response.status_code == 200:\n",
    "    print(\"Success:\", response.text)\n",
    "    print(\"Data:\" + response.json()[\"output\"][\"return_type\"])\n",
    "\n",
    "else:\n",
    "    print(\"Error:\", response.text)"
   ]
  },
  {
   "cell_type": "code",
   "execution_count": 16,
   "metadata": {},
   "outputs": [
    {
     "name": "stdout",
     "output_type": "stream",
     "text": [
      "Success: {\"output\":{\"return_type\":\"timestamp\",\"timestamp\":1731}}\n",
      "\n"
     ]
    },
    {
     "ename": "KeyError",
     "evalue": "'quiz_questions'",
     "output_type": "error",
     "traceback": [
      "\u001b[0;31m---------------------------------------------------------------------------\u001b[0m",
      "\u001b[0;31mKeyError\u001b[0m                                  Traceback (most recent call last)",
      "Cell \u001b[0;32mIn[16], line 12\u001b[0m\n\u001b[1;32m     10\u001b[0m \u001b[38;5;28;01mif\u001b[39;00m response\u001b[38;5;241m.\u001b[39mstatus_code \u001b[38;5;241m==\u001b[39m \u001b[38;5;241m200\u001b[39m:\n\u001b[1;32m     11\u001b[0m     \u001b[38;5;28mprint\u001b[39m(\u001b[38;5;124m\"\u001b[39m\u001b[38;5;124mSuccess:\u001b[39m\u001b[38;5;124m\"\u001b[39m, response\u001b[38;5;241m.\u001b[39mtext)\n\u001b[0;32m---> 12\u001b[0m     \u001b[38;5;28mprint\u001b[39m(\u001b[38;5;124m\"\u001b[39m\u001b[38;5;124mData: \u001b[39m\u001b[38;5;124m\"\u001b[39m \u001b[38;5;241m+\u001b[39m response\u001b[38;5;241m.\u001b[39mjson()[\u001b[38;5;124m\"\u001b[39m\u001b[38;5;124moutput\u001b[39m\u001b[38;5;124m\"\u001b[39m][\u001b[38;5;124m\"\u001b[39m\u001b[38;5;124mquiz_questions\u001b[39m\u001b[38;5;124m\"\u001b[39m][\u001b[38;5;124m\"\u001b[39m\u001b[38;5;124mquiz1\u001b[39m\u001b[38;5;124m\"\u001b[39m])\n\u001b[1;32m     13\u001b[0m \u001b[38;5;28;01melse\u001b[39;00m:\n\u001b[1;32m     14\u001b[0m     \u001b[38;5;28mprint\u001b[39m(\u001b[38;5;124m\"\u001b[39m\u001b[38;5;124mError:\u001b[39m\u001b[38;5;124m\"\u001b[39m, response\u001b[38;5;241m.\u001b[39mtext)\n",
      "\u001b[0;31mKeyError\u001b[0m: 'quiz_questions'"
     ]
    }
   ],
   "source": [
    "import requests\n",
    "\n",
    "url = \"https://caupona-backend.azurewebsites.net/chat\"\n",
    "data = {\n",
    "    \"input\": \"Hey I'd like to rewatch the recoding of my lecture regarding thomposon sampling'\",  # Replace these with actual key-value pairs you want to send\n",
    "}\n",
    "\n",
    "response = requests.post(url, json=data)\n",
    "\n",
    "if response.status_code == 200:\n",
    "    print(\"Success:\", response.text)\n",
    "    print(\"Data: \" + response.json()[\"output\"][\"quiz_questions\"][\"quiz1\"])\n",
    "else:\n",
    "    print(\"Error:\", response.text)\n",
    "\n",
    "# thompson sampling\n",
    "#return type =timestamp"
   ]
  },
  {
   "cell_type": "code",
   "execution_count": 13,
   "metadata": {},
   "outputs": [
    {
     "name": "stdout",
     "output_type": "stream",
     "text": [
      "1\n",
      "Surfing strategies\n",
      "2\n",
      "Kitchen budgeting\n",
      "3\n",
      "Climate change cycling\n"
     ]
    }
   ],
   "source": [
    "text = '{\"output\":{\"quiz_questions\":{\"quiz1\":{\"correct_index\":0,\"options\":[\"Bayesian Optimization\",\"Surfing strategies\",\"Kitchen budgeting\",\"Climate change cycling\"],\"question\":\"What is the main theme of the text provided?\"},\"quiz2\":{\"correct_index\":0,\"options\":[\"To minimize cost and time\",\"To increase uncertainty\",\"To introduce more variance\",\"To complicate the process\"],\"question\":\"In the context of optimization, why is it important to evaluate a function as few times as possible?\"},\"quiz3\":{\"correct_index\":0,\"options\":[\"Minimize uncertainty with minimal sampling\",\"Maximize variance with extensive sampling\",\"Include everyone in the poll\",\"Run multiple elections simultaneously\"],\"question\":\"What should be the goal when generating polls for elections according to the lecture?\"}},\"return_type\":\"quiz_questions\"}}'\n",
    "\n",
    "import json\n",
    "json_b = json.loads(text)\n",
    "quiz1 = json_b[\"output\"][\"quiz_questions\"][\"quiz1\"]\n",
    "\n",
    "for i in range(len(quiz1[\"options\"])):\n",
    "    if i == quiz1[\"correct_index\"]:\n",
    "        continue\n",
    "    print(i)\n",
    "    print(quiz1[\"options\"][i])"
   ]
  }
 ],
 "metadata": {
  "kernelspec": {
   "display_name": "Python 3",
   "language": "python",
   "name": "python3"
  },
  "language_info": {
   "codemirror_mode": {
    "name": "ipython",
    "version": 3
   },
   "file_extension": ".py",
   "mimetype": "text/x-python",
   "name": "python",
   "nbconvert_exporter": "python",
   "pygments_lexer": "ipython3",
   "version": "3.11.5"
  }
 },
 "nbformat": 4,
 "nbformat_minor": 2
}
