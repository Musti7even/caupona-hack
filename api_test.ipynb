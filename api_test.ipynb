{
 "cells": [
  {
   "cell_type": "code",
   "execution_count": 5,
   "metadata": {},
   "outputs": [
    {
     "name": "stdout",
     "output_type": "stream",
     "text": [
      "Success: {\"output\":{\"return_type\":\"chat\",\"text\":\"Hallo! Mir geht es gut, danke. Wie kann ich dir helfen?\"}}\n",
      "\n",
      "Data:chat\n"
     ]
    }
   ],
   "source": [
    "import requests\n",
    "\n",
    "url = \"https://caupona-backend.azurewebsites.net/chat\"\n",
    "data = {\n",
    "    \"input\": \"Hey wie gehts dir? Ich brauche Hilfe\",  # Replace these with actual key-value pairs you want to send\n",
    "}\n",
    "\n",
    "response = requests.post(url, json=data)\n",
    "\n",
    "if response.status_code == 200:\n",
    "    print(\"Success:\", response.text)\n",
    "    print(\"Data:\" + response.json()[\"output\"][\"text\"])\n",
    "\n",
    "else:\n",
    "    print(\"Error:\", response.text)"
   ]
  },
  {
   "cell_type": "code",
   "execution_count": 6,
   "metadata": {},
   "outputs": [
    {
     "name": "stdout",
     "output_type": "stream",
     "text": [
      "Success: {\"output\":{\"quiz_questions\":{\"quiz1\":{\"correct_index\":0,\"options\":[\"Bayesian Optimization\",\"Surfing strategies\",\"Kitchen budgeting\",\"Climate change cycling\"],\"question\":\"What is the main theme of the text provided?\"},\"quiz2\":{\"correct_index\":0,\"options\":[\"To minimize cost and time\",\"To increase uncertainty\",\"To introduce more variance\",\"To complicate the process\"],\"question\":\"In the context of optimization, why is it important to evaluate a function as few times as possible?\"},\"quiz3\":{\"correct_index\":0,\"options\":[\"Minimize uncertainty with minimal sampling\",\"Maximize variance with extensive sampling\",\"Include everyone in the poll\",\"Run multiple elections simultaneously\"],\"question\":\"What should be the goal when generating polls for elections according to the lecture?\"}},\"return_type\":\"quiz_questions\"}}\n",
      "\n"
     ]
    },
    {
     "ename": "KeyError",
     "evalue": "'text'",
     "output_type": "error",
     "traceback": [
      "\u001b[0;31m---------------------------------------------------------------------------\u001b[0m",
      "\u001b[0;31mKeyError\u001b[0m                                  Traceback (most recent call last)",
      "Cell \u001b[0;32mIn[6], line 12\u001b[0m\n\u001b[1;32m     10\u001b[0m \u001b[38;5;28;01mif\u001b[39;00m response\u001b[38;5;241m.\u001b[39mstatus_code \u001b[38;5;241m==\u001b[39m \u001b[38;5;241m200\u001b[39m:\n\u001b[1;32m     11\u001b[0m     \u001b[38;5;28mprint\u001b[39m(\u001b[38;5;124m\"\u001b[39m\u001b[38;5;124mSuccess:\u001b[39m\u001b[38;5;124m\"\u001b[39m, response\u001b[38;5;241m.\u001b[39mtext)\n\u001b[0;32m---> 12\u001b[0m     \u001b[38;5;28mprint\u001b[39m(\u001b[38;5;124m\"\u001b[39m\u001b[38;5;124mData:\u001b[39m\u001b[38;5;124m\"\u001b[39m \u001b[38;5;241m+\u001b[39m response\u001b[38;5;241m.\u001b[39mjson()[\u001b[38;5;124m\"\u001b[39m\u001b[38;5;124moutput\u001b[39m\u001b[38;5;124m\"\u001b[39m][\u001b[38;5;124m\"\u001b[39m\u001b[38;5;124mtext\u001b[39m\u001b[38;5;124m\"\u001b[39m])\n\u001b[1;32m     14\u001b[0m \u001b[38;5;28;01melse\u001b[39;00m:\n\u001b[1;32m     15\u001b[0m     \u001b[38;5;28mprint\u001b[39m(\u001b[38;5;124m\"\u001b[39m\u001b[38;5;124mError:\u001b[39m\u001b[38;5;124m\"\u001b[39m, response\u001b[38;5;241m.\u001b[39mtext)\n",
      "\u001b[0;31mKeyError\u001b[0m: 'text'"
     ]
    }
   ],
   "source": [
    "import requests\n",
    "\n",
    "url = \"https://caupona-backend.azurewebsites.net/chat\"\n",
    "data = {\n",
    "    \"input\": \"Hey wie gehts dir? Ich brauche Hilfe\",  # Replace these with actual key-value pairs you want to send\n",
    "}\n",
    "\n",
    "response = requests.post(url, json=data)\n",
    "\n",
    "if response.status_code == 200:\n",
    "    print(\"Success:\", response.text)\n",
    "else:\n",
    "    print(\"Error:\", response.text)"
   ]
  }
 ],
 "metadata": {
  "kernelspec": {
   "display_name": "Python 3",
   "language": "python",
   "name": "python3"
  },
  "language_info": {
   "codemirror_mode": {
    "name": "ipython",
    "version": 3
   },
   "file_extension": ".py",
   "mimetype": "text/x-python",
   "name": "python",
   "nbconvert_exporter": "python",
   "pygments_lexer": "ipython3",
   "version": "3.11.5"
  }
 },
 "nbformat": 4,
 "nbformat_minor": 2
}
